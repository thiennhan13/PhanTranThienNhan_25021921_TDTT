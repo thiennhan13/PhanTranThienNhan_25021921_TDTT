{
 "cells": [
  {
   "cell_type": "code",
   "execution_count": 3,
   "id": "2e705899-f6ca-455e-9e39-ac6edcd7e24b",
   "metadata": {},
   "outputs": [
    {
     "name": "stdin",
     "output_type": "stream",
     "text": [
      " 5\n"
     ]
    },
    {
     "name": "stdout",
     "output_type": "stream",
     "text": [
      "10\n"
     ]
    }
   ],
   "source": [
    "n = int(input())\n",
    "print(n*2)"
   ]
  },
  {
   "cell_type": "code",
   "execution_count": 14,
   "id": "aa257c2b-9605-47f5-be49-976b7d12429a",
   "metadata": {},
   "outputs": [
    {
     "name": "stdin",
     "output_type": "stream",
     "text": [
      " 4 5\n"
     ]
    },
    {
     "name": "stdout",
     "output_type": "stream",
     "text": [
      "7.44\n"
     ]
    }
   ],
   "source": [
    "a, b = map(float, input().split())\n",
    "c = round(a*b - 3.14*(a/2)**2, 2)\n",
    "print(c)"
   ]
  },
  {
   "cell_type": "code",
   "execution_count": 17,
   "id": "cc6a3e91-4b6a-424a-aa50-7e5157b235ac",
   "metadata": {},
   "outputs": [
    {
     "name": "stdin",
     "output_type": "stream",
     "text": [
      " b\n"
     ]
    },
    {
     "name": "stdout",
     "output_type": "stream",
     "text": [
      "B\n"
     ]
    }
   ],
   "source": [
    "a = input()\n",
    "if ord(a) > ord('a'):\n",
    "    print(chr(ord(a) - ord('a') + ord('A')))\n",
    "else:\n",
    "    print(chr(ord(a) + ord('a') - ord('A')))"
   ]
  },
  {
   "cell_type": "code",
   "execution_count": 12,
   "id": "81f8a9d9-e3fe-46a1-86d1-ff59d6c4ed17",
   "metadata": {},
   "outputs": [
    {
     "name": "stdin",
     "output_type": "stream",
     "text": [
      " 13/10/2007\n"
     ]
    },
    {
     "name": "stdout",
     "output_type": "stream",
     "text": [
      "valid\n"
     ]
    }
   ],
   "source": [
    "def check():\n",
    "    a, b, c = map (int, input().split(\"/\"))\n",
    "    if ( a > 31 or a < 1 or b < 1 or b > 12 or c < 1900 or c > 2100):\n",
    "        print (\"invalid\")\n",
    "        return\n",
    "    if(b % 2 == 0 and b < 7 and a > 30):\n",
    "        print (\"invalid\")\n",
    "        return\n",
    "    if(b % 2 == 1 and b > 7 and a > 30):\n",
    "        print (\"invalid\")\n",
    "        return\n",
    "    if(b == 2):\n",
    "        if( c % 4 == 0 and c % 100 != 0):\n",
    "            if( a > 29 ):\n",
    "                print (\"invalid\")\n",
    "                return\n",
    "        else:\n",
    "            if(a > 28):\n",
    "                print (\"invalid\")\n",
    "                return         \n",
    "    print(\"valid\")\n",
    "\n",
    "check()"
   ]
  },
  {
   "cell_type": "code",
   "execution_count": null,
   "id": "d24a439b-cb0d-4a22-b3c2-197691d3a027",
   "metadata": {},
   "outputs": [],
   "source": []
  }
 ],
 "metadata": {
  "kernelspec": {
   "display_name": "Python 3 (ipykernel)",
   "language": "python",
   "name": "python3"
  },
  "language_info": {
   "codemirror_mode": {
    "name": "ipython",
    "version": 3
   },
   "file_extension": ".py",
   "mimetype": "text/x-python",
   "name": "python",
   "nbconvert_exporter": "python",
   "pygments_lexer": "ipython3",
   "version": "3.13.7"
  }
 },
 "nbformat": 4,
 "nbformat_minor": 5
}
