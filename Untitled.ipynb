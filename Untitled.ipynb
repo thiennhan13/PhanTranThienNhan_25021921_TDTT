{
 "cells": [
  {
   "cell_type": "code",
   "execution_count": 8,
   "id": "77087cf7-355b-415e-8fac-092bbf584497",
   "metadata": {
    "editable": true,
    "slideshow": {
     "slide_type": ""
    },
    "tags": []
   },
   "outputs": [
    {
     "name": "stdin",
     "output_type": "stream",
     "text": [
      " 31/8/2080\n"
     ]
    },
    {
     "name": "stdout",
     "output_type": "stream",
     "text": [
      "valid\n"
     ]
    }
   ],
   "source": [
    "def check():\n",
    "    a, b, c = map (int, input().split(\"/\"))\n",
    "    if ( a > 31 or a < 1 or b < 1 or b > 12 or c < 1900 or c > 2100):\n",
    "        print (\"invalid\")\n",
    "        return\n",
    "    if(b % 2 == 0 and b < 7 and a > 30):\n",
    "        print (\"invalid\")\n",
    "        return\n",
    "    if(b % 2 == 1 and b > 7 and a > 30):\n",
    "        print (\"invalid\")\n",
    "        return\n",
    "    if(b == 2):\n",
    "        if( c % 4 == 0 and c % 100 != 0):\n",
    "            if( a > 29 ):\n",
    "                print (\"invalid\")\n",
    "                return\n",
    "        else:\n",
    "            if(a > 28):\n",
    "                print (\"invalid\")\n",
    "                return\n",
    "                \n",
    "    print(\"valid\")\n",
    "\n",
    "check()"
   ]
  },
  {
   "cell_type": "code",
   "execution_count": null,
   "id": "1e0b51c7-333b-4339-b04e-dc8edde8c8f3",
   "metadata": {},
   "outputs": [],
   "source": []
  }
 ],
 "metadata": {
  "kernelspec": {
   "display_name": "Python 3 (ipykernel)",
   "language": "python",
   "name": "python3"
  },
  "language_info": {
   "codemirror_mode": {
    "name": "ipython",
    "version": 3
   },
   "file_extension": ".py",
   "mimetype": "text/x-python",
   "name": "python",
   "nbconvert_exporter": "python",
   "pygments_lexer": "ipython3",
   "version": "3.13.7"
  }
 },
 "nbformat": 4,
 "nbformat_minor": 5
}
