{
 "cells": [
  {
   "cell_type": "code",
   "execution_count": 1,
   "id": "b0276607-7c1c-4edc-a67d-915983cd1c04",
   "metadata": {},
   "outputs": [
    {
     "name": "stdout",
     "output_type": "stream",
     "text": [
      "Ho Chi Minh\n"
     ]
    }
   ],
   "source": [
    "print(\"Ho Chi Minh\")"
   ]
  },
  {
   "cell_type": "code",
   "execution_count": null,
   "id": "5f569b94-e574-48a8-ad1c-d4f3d5c765c2",
   "metadata": {
    "editable": true,
    "slideshow": {
     "slide_type": ""
    },
    "tags": []
   },
   "outputs": [],
   "source": []
  }
 ],
 "metadata": {
  "kernelspec": {
   "display_name": "Python 3 (ipykernel)",
   "language": "python",
   "name": "python3"
  },
  "language_info": {
   "codemirror_mode": {
    "name": "ipython",
    "version": 3
   },
   "file_extension": ".py",
   "mimetype": "text/x-python",
   "name": "python",
   "nbconvert_exporter": "python",
   "pygments_lexer": "ipython3",
   "version": "3.13.7"
  }
 },
 "nbformat": 4,
 "nbformat_minor": 5
}
