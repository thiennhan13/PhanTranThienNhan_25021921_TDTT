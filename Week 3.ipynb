{
 "cells": [
  {
   "cell_type": "code",
   "execution_count": 1,
   "id": "f2fcce3c-1d09-4cee-837d-402034911096",
   "metadata": {},
   "outputs": [
    {
     "name": "stdin",
     "output_type": "stream",
     "text": [
      " f\n"
     ]
    },
    {
     "name": "stdout",
     "output_type": "stream",
     "text": [
      "F\n"
     ]
    }
   ],
   "source": [
    "c = input()\n",
    "if(len(c) == 1):\n",
    "    if(c.isupper()):\n",
    "        c_lo = c.lower()\n",
    "        print(c_lo)\n",
    "    elif (c.islower):\n",
    "        c_up = c.upper()\n",
    "        print(c_up)\n",
    "    else:\n",
    "        print (\"Day khong phai ki tu alphabet\")\n",
    "else:\n",
    "    print (\"Khong phai mot ki tu\")"
   ]
  },
  {
   "cell_type": "code",
   "execution_count": 3,
   "id": "b03fe7b9-9ce5-4e51-9c2d-0096294f64fa",
   "metadata": {},
   "outputs": [
    {
     "name": "stdin",
     "output_type": "stream",
     "text": [
      " 43 4 3\n"
     ]
    },
    {
     "name": "stdout",
     "output_type": "stream",
     "text": [
      "Khong phai 3 canh\n"
     ]
    }
   ],
   "source": [
    "a, b, c = map(float, input().split())\n",
    "if(a + b > c and b + c > a and a + c > b and a > 0 and b > 0 and c > 0):\n",
    "    p = (a + b + c)/2\n",
    "    s = p * (p - a) * (p - b) * (p - c)\n",
    "    s = s**0.5\n",
    "    print(f'Dien tich tam giac la: {s:.1f}')\n",
    "else: \n",
    "    print('Khong phai 3 canh')"
   ]
  },
  {
   "cell_type": "code",
   "execution_count": 4,
   "id": "7c4b31ce-fc42-4131-bfcb-75861ce7bf4d",
   "metadata": {},
   "outputs": [
    {
     "name": "stdin",
     "output_type": "stream",
     "text": [
      " hieukhong\n"
     ]
    },
    {
     "name": "stdout",
     "output_type": "stream",
     "text": [
      "Do dai chuoi la 9\n",
      "Chua du do dai\n"
     ]
    }
   ],
   "source": [
    "text = input()\n",
    "print(f'Do dai chuoi la {len(text)}')\n",
    "\n",
    "if(len(text) >= 20):\n",
    "    print(text[4], text[8], sep = '\\n')\n",
    "else:\n",
    "    print('Chua du do dai')\n"
   ]
  },
  {
   "cell_type": "code",
   "execution_count": 7,
   "id": "655e7e5d-8bbc-4944-915f-9da69dfcf1a5",
   "metadata": {},
   "outputs": [
    {
     "name": "stdin",
     "output_type": "stream",
     "text": [
      "Ten chu ho: Phan Nhan\n",
      "Chi so thang truoc: 354\n",
      "Chi so thang nay: 342\n"
     ]
    },
    {
     "name": "stdout",
     "output_type": "stream",
     "text": [
      "Ho va ten: Phan Nhan\n",
      "Tien phai tra la: 70416.0\n"
     ]
    }
   ],
   "source": [
    "Hoten = input('Ten chu ho:')\n",
    "Ttruoc = int(input('Chi so thang truoc:'))\n",
    "so = int(input('Chi so thang nay:'))\n",
    "res = int(0)\n",
    "\n",
    "if(so > 50):\n",
    "    res = 50* 1984\n",
    "    if(so > 100):\n",
    "        res = res + 50 * 2050\n",
    "        if(so > 200):\n",
    "            res = res + 100 * 2380\n",
    "            if(so > 300):\n",
    "                res = res + 100 * 2998\n",
    "                if(so > 400):\n",
    "                    res = res + 100 * 3350 + 3460 * (res - 400)\n",
    "                else:\n",
    "                    res = res + (so - 300) * 3350\n",
    "                \n",
    "            else: \n",
    "                res = res + (so - 200) * 2998\n",
    "        else:\n",
    "            res = res + (so - 100) *2380\n",
    "    else:\n",
    "        res = res + (so - 50) * 2050\n",
    "else:\n",
    "    res = so * 1984\n",
    "\n",
    "print(f'Ho va ten: {Hoten}')\n",
    "print(f'Tien phai tra la: {res*1.08}')"
   ]
  },
  {
   "cell_type": "code",
   "execution_count": null,
   "id": "b142b0af-d223-4323-8a5d-f928047d3881",
   "metadata": {},
   "outputs": [],
   "source": []
  }
 ],
 "metadata": {
  "kernelspec": {
   "display_name": "Python 3 (ipykernel)",
   "language": "python",
   "name": "python3"
  },
  "language_info": {
   "codemirror_mode": {
    "name": "ipython",
    "version": 3
   },
   "file_extension": ".py",
   "mimetype": "text/x-python",
   "name": "python",
   "nbconvert_exporter": "python",
   "pygments_lexer": "ipython3",
   "version": "3.13.7"
  }
 },
 "nbformat": 4,
 "nbformat_minor": 5
}
