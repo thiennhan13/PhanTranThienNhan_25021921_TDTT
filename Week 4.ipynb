{
 "cells": [
  {
   "cell_type": "code",
   "execution_count": 2,
   "id": "bcb2f860-0a24-4094-85f1-3845a96984c1",
   "metadata": {},
   "outputs": [
    {
     "name": "stdin",
     "output_type": "stream",
     "text": [
      " 5\n"
     ]
    },
    {
     "name": "stdout",
     "output_type": "stream",
     "text": [
      "15\n"
     ]
    }
   ],
   "source": [
    "#W4A1\n",
    "n = int(input())\n",
    "res = 0\n",
    "for i in range (n + 1):\n",
    "    res += i\n",
    "print(res)"
   ]
  },
  {
   "cell_type": "code",
   "execution_count": 17,
   "id": "ac8fd30c-10f0-49fd-860c-390442553f31",
   "metadata": {},
   "outputs": [
    {
     "name": "stdin",
     "output_type": "stream",
     "text": [
      " 7\n"
     ]
    },
    {
     "name": "stdout",
     "output_type": "stream",
     "text": [
      "Co\n"
     ]
    }
   ],
   "source": [
    "#W4A2\n",
    "def check(n : int) -> bool:\n",
    "    if n == 1:\n",
    "        return False\n",
    "    for i in range (2, int(n**0.5)):\n",
    "        if n%i == 0:\n",
    "            return False\n",
    "    return True\n",
    "\n",
    "n = int(input())\n",
    "while(n <= 0):\n",
    "    n = int(input())\n",
    "\n",
    "if check(n) == True:\n",
    "    print(\"Co\")\n",
    "else:\n",
    "    print(\"Khong\")"
   ]
  },
  {
   "cell_type": "code",
   "execution_count": 18,
   "id": "4f95c120-bad9-4823-9978-648a29665d9b",
   "metadata": {},
   "outputs": [
    {
     "name": "stdin",
     "output_type": "stream",
     "text": [
      " 5\n"
     ]
    },
    {
     "name": "stdout",
     "output_type": "stream",
     "text": [
      "120\n"
     ]
    }
   ],
   "source": [
    "#W4A3\n",
    "n = int(input())\n",
    "res = 1\n",
    "for i in range (1, n + 1):\n",
    "    res *= i\n",
    "print(res)"
   ]
  },
  {
   "cell_type": "code",
   "execution_count": 22,
   "id": "9257c03f-9d62-4e8c-8bf6-7a03d1c8968e",
   "metadata": {},
   "outputs": [
    {
     "name": "stdin",
     "output_type": "stream",
     "text": [
      " 12345\n"
     ]
    },
    {
     "name": "stdout",
     "output_type": "stream",
     "text": [
      "5\n"
     ]
    }
   ],
   "source": [
    "#W4A4\n",
    "n = int(input())\n",
    "res = 0\n",
    "while(n > 0):\n",
    "    res += 1\n",
    "    n //= 10\n",
    "print(res)"
   ]
  },
  {
   "cell_type": "code",
   "execution_count": 29,
   "id": "c91cca82-75d0-428b-94ab-072f6ea634ea",
   "metadata": {},
   "outputs": [
    {
     "name": "stdin",
     "output_type": "stream",
     "text": [
      " 5 7 4 9 3 42\n"
     ]
    },
    {
     "name": "stdout",
     "output_type": "stream",
     "text": [
      "I've found the meaning of life!\n"
     ]
    }
   ],
   "source": [
    "#W4A5\n",
    "def check(n : int):\n",
    "    \n",
    "    for i in range (1, n+1):\n",
    "        if(a[i] == 42):\n",
    "            return True\n",
    "    return False\n",
    "\n",
    "a = list(map(int, input().split()))\n",
    "if check(a[0]) == True:\n",
    "    print(\"I've found the meaning of life!\")\n",
    "else:\n",
    "    print(\"It's a joke!\")"
   ]
  },
  {
   "cell_type": "code",
   "execution_count": 47,
   "id": "65f10846-6258-4520-b0e8-d18757ed6a1b",
   "metadata": {},
   "outputs": [
    {
     "name": "stdin",
     "output_type": "stream",
     "text": [
      " 4 5\n"
     ]
    },
    {
     "name": "stdout",
     "output_type": "stream",
     "text": [
      "5 "
     ]
    },
    {
     "name": "stdin",
     "output_type": "stream",
     "text": [
      " 3 9\n"
     ]
    },
    {
     "name": "stdout",
     "output_type": "stream",
     "text": [
      "3 5 7 "
     ]
    },
    {
     "name": "stdin",
     "output_type": "stream",
     "text": [
      " 20 39\n"
     ]
    },
    {
     "name": "stdout",
     "output_type": "stream",
     "text": [
      "23 29 31 37 "
     ]
    },
    {
     "name": "stdin",
     "output_type": "stream",
     "text": [
      " \n"
     ]
    },
    {
     "ename": "ValueError",
     "evalue": "not enough values to unpack (expected 2, got 0)",
     "output_type": "error",
     "traceback": [
      "\u001b[31m---------------------------------------------------------------------------\u001b[39m",
      "\u001b[31mValueError\u001b[39m                                Traceback (most recent call last)",
      "\u001b[36mCell\u001b[39m\u001b[36m \u001b[39m\u001b[32mIn[47]\u001b[39m\u001b[32m, line 12\u001b[39m\n\u001b[32m     10\u001b[39m \u001b[38;5;28;01mwhile\u001b[39;00m \u001b[38;5;28;01mTrue\u001b[39;00m:\n\u001b[32m     11\u001b[39m     \u001b[38;5;28;01mtry\u001b[39;00m:\n\u001b[32m---> \u001b[39m\u001b[32m12\u001b[39m         a, b = \u001b[38;5;28mmap\u001b[39m(\u001b[38;5;28mint\u001b[39m, \u001b[38;5;28minput\u001b[39m().split())\n\u001b[32m     13\u001b[39m     \u001b[38;5;28;01mexcept\u001b[39;00m \u001b[38;5;167;01mEOFError\u001b[39;00m:\n\u001b[32m     14\u001b[39m         \u001b[38;5;28;01mbreak\u001b[39;00m\n",
      "\u001b[31mValueError\u001b[39m: not enough values to unpack (expected 2, got 0)"
     ]
    }
   ],
   "source": [
    "#W4A6\n",
    "n = 10**6\n",
    "nguyento = [0] * n\n",
    "nguyento[0] = nguyento[1] = 1\n",
    "for i in range (2, n):\n",
    "    if nguyento[i] == 0:\n",
    "        for j in range (i*2, n, i):\n",
    "            nguyento[j] = 1\n",
    "            \n",
    "while True:\n",
    "    try:\n",
    "        a, b = map(int, input().split())\n",
    "    except EOFError:\n",
    "        break\n",
    "    if not a:\n",
    "        break\n",
    "    \n",
    "    for i in range(a, b + 1):\n",
    "        if nguyento[i] == 0:\n",
    "            print(i, end = ' ')\n",
    "        "
   ]
  },
  {
   "cell_type": "code",
   "execution_count": 50,
   "id": "3b075a5a-d4ea-4b7c-8b6a-2af843f7c5bb",
   "metadata": {},
   "outputs": [
    {
     "name": "stdin",
     "output_type": "stream",
     "text": [
      " 9\n"
     ]
    },
    {
     "name": "stdout",
     "output_type": "stream",
     "text": [
      "7\n"
     ]
    }
   ],
   "source": [
    "#W4A7\n",
    "n = 10**6\n",
    "nguyento = [0] * n\n",
    "nguyento[0] = nguyento[1] = 1\n",
    "for i in range (2, n):\n",
    "    if nguyento[i] == 0:\n",
    "        for j in range (i*2, n, i):\n",
    "            nguyento[j] = 1\n",
    "\n",
    "n = int(input())\n",
    "while(n >= 2):\n",
    "    if nguyento[n] == 0:\n",
    "        print(n)\n",
    "        break\n",
    "    else:\n",
    "        n -= 1"
   ]
  },
  {
   "cell_type": "code",
   "execution_count": null,
   "id": "3f06becc-abc5-4b83-acfc-65dd9f098524",
   "metadata": {},
   "outputs": [],
   "source": [
    "#W4A8\n"
   ]
  }
 ],
 "metadata": {
  "kernelspec": {
   "display_name": "Python 3 (ipykernel)",
   "language": "python",
   "name": "python3"
  },
  "language_info": {
   "codemirror_mode": {
    "name": "ipython",
    "version": 3
   },
   "file_extension": ".py",
   "mimetype": "text/x-python",
   "name": "python",
   "nbconvert_exporter": "python",
   "pygments_lexer": "ipython3",
   "version": "3.13.7"
  }
 },
 "nbformat": 4,
 "nbformat_minor": 5
}
